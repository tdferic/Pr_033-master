{
 "cells": [
  {
   "cell_type": "markdown",
   "metadata": {},
   "source": [
    "# COGS 108 - Project Proposal"
   ]
  },
  {
   "cell_type": "markdown",
   "metadata": {},
   "source": [
    "## Important\n",
    "\n",
    "- Make sure all group members (3-5 people) are listed in the group members section.\n",
    "- ONE, and only one, member of your group should upload this notebook to TritonED. \n",
    "- Each member of the group will receive the same grade on this assignment. \n",
    "- Keep the file name the same: submit the file 'ProjectProposal.ipynb'"
   ]
  },
  {
   "cell_type": "markdown",
   "metadata": {},
   "source": [
    "## Overview"
   ]
  },
  {
   "cell_type": "markdown",
   "metadata": {},
   "source": [
    "Read the project description and detailed instructions for this assignment in the 'ProjectOutline' document."
   ]
  },
  {
   "cell_type": "markdown",
   "metadata": {},
   "source": [
    "## Group Members: Fill in the Student IDs of each group member here\n",
    "\n",
    "Replace the lines below to list each persons full student ID. Add lines as needed for your group size, and make sure each ID is listed on a separate line. \n",
    "\n",
    "- A12303180\n",
    "- A14238243\n",
    "- A14207451\n",
    "- A13627421\n",
    "- A92070502\n"
   ]
  },
  {
   "cell_type": "markdown",
   "metadata": {},
   "source": [
    "### Research Question\n",
    "\n",
    "What is your research question? (1-2 sentences)"
   ]
  },
  {
   "cell_type": "markdown",
   "metadata": {},
   "source": [
    "Are students who attend public universities more likely to choose a STEM major over a less pragmatic study, such as the arts, compared to those who attend private universities?\n",
    "\n"
   ]
  },
  {
   "cell_type": "markdown",
   "metadata": {},
   "source": [
    "### Hypothesis\n",
    "\n",
    "What is your main hypothesis and predictions? (2-3 sentences)"
   ]
  },
  {
   "cell_type": "markdown",
   "metadata": {},
   "source": [
    "Students from lower-income families are more likely to choose lucrative majors, such as a field in STEM, in order to set themselves up to be financially stable after graduating. Students from lower-income families do not have the same buffer as those from higher-earning families since financial concerns are not being covered by their parents. This gives students from higher-income families the pleasure and opportunity to study in fields such as performing arts and literature, which are disciplines more valued and funded at private universities. \n",
    "Moreover, public universities have less funding compared to private universities. School funds are often prioritized to STEM majors, and non-STEM majors gets less funding. As a result, non-STEM majors in public universities have a lower education quality from the lack of funding which disincentives non-STEM major students from going to a public school.\n"
   ]
  },
  {
   "cell_type": "markdown",
   "metadata": {},
   "source": [
    "### Dataset(s)\n",
    "\n",
    "What data will you use to answer your question? Describe the dataset(s) in terms of number of observations, what kind of features it contains, etc. You must use at least one dataset containing at least approximately 1000 observations (if your data are smaller but you feel they are sufficient, email Prof. Voytek). You are welcome (and in fact recommended) to find multiple datasets! If you do so, describe each one, and briefly explain how you will combine them together. "
   ]
  },
  {
   "cell_type": "markdown",
   "metadata": {},
   "source": [
    "\n",
    "- Dataset Name: Fafsa award to schools\n",
    "- Link to the dataset: https://studentaid.ed.gov/sa/about/data-center/student/title-iv\n",
    "- Number of observations: 7000\n",
    "\n",
    "This dataset contains data on the amount of fafsa awarded to each school. We can use this to find whether a correlation exists between family income and decision of attending a public/private university. Lower income families are more likely to need more fafsa aid.\n",
    "\n",
    "\n",
    "\n",
    "- Dataset Name: Federally aid based on major\n",
    "- Link to the dataset: https://ncsesdata.nsf.gov/profiles/site?method=report&fice=1317&id=g6                          https://ncsesdata.nsf.gov/profiles/site?method=report&fice=1317&id=g3\n",
    "- Number of observations: 1000\n",
    "\n",
    "This dataset shows the amount of government aid and other forms of financial aid given to various majors. We want to see whether STEM majors get higher priority funding."
   ]
  },
  {
   "cell_type": "markdown",
   "metadata": {},
   "source": [
    "### Background and Prior Work\n",
    "\n",
    "Why is this question of interest, what background information led you to your hypothesis, and why is this important?\n",
    "\n",
    "Find some relevant prior work, and reference those sources. Even if you think you have a totally novel question, find the most similar prior work that you can and discuss how it relates to your project. \n",
    "\n",
    "References can be research publications, but they need not be. Blogs, github repositories, company websites, etc., are all viable references if they are relevant to your project.\n",
    "\n",
    "(2-3 paragraphs, including at least 2 references)"
   ]
  },
  {
   "cell_type": "markdown",
   "metadata": {},
   "source": [
    "This question is of interest because as lower-income students, we feel the pressure to decide on our academic path based on its expected payout. Knowing that our financial concerns cannot be eventually alleviated by our parents in the future, we must choose pragmatic disciplines and leave our other interests, such as in the arts, as mere hobbies, or even completely leaving it behind. \n",
    "\n",
    "In Joe Pinsker’s article “Rich Kids Study English”, he discusses data that shows students whose parents make less money tend to pursue more useful majors, such as math or computer science. According to the National Center for Educational Statistics, there reveals a correlation between the amount of money a college student’s parents make and what the person studies. Kids from lower-earning families tend to study more lucrative majors, while those whose parents earn more will pursue history, English, and arts. Pinsker notes a conversation he had with Kim Weeden, a sociologist at Cornell University. Weeden found a trend in the National Center for Educational Statistics data which showed that families of lower and higher incomes tend to “send their children to schools with different options for majors: Most of the priciest, top-tier schools don’t offer Law Enforcement as a major, for instance.” Further, Pinsker discusses data from Greg Clark, a professor at UC Davis, that explored student’s majors at Cambridge University from the past 15 years. He compared students of high social class, which he denoted as those with rare, elite surnames to those with typical English surnames. His data revealed that elite students were much more likely to study classics and English, and less likely to pursue a field in STEM.\n",
    "\n",
    "Many elite universities fall short on admitting students from low-income families, making their campuses lack in economic diversity and causing lower-income students to have less opportunities. In Deirdre Fernandes’ article “Low-income students remain rare at elite universities”, he talks about how prestigious/selective colleges let in only a meager amount of low-income students. Research from the Equality of Opportunity Project shows that some of the most competitive schools in America have enrolled more students from families at the top 1 percent of the income scale (Fernandes, 2017).\n",
    "\n",
    "References (include links):\n",
    "1. Joe Pinsker’s “Rich Kids Study English” https://www.theatlantic.com/business/archive/2015/07/college-major-rich-families-liberal-arts/397439/\n",
    "2. Deirdre Fernandes’ “Low-income students remain rare at elite universities” https://www.bostonglobe.com/metro/2017/08/12/elite-universities-struggle-for-economic-diversity/ep1Z2oyzAAV8iF9Kk0srWO/story.html"
   ]
  },
  {
   "cell_type": "markdown",
   "metadata": {},
   "source": [
    "### Proposed Methods\n",
    "\n",
    "What methods will you use to analyze your data?\n",
    "\n",
    "- How 'clean' is the data? To the extent that it requires cleaning, how will you do so?\n",
    "- How will you analyze the data? Be as specific as you can. Briefly mention any pre-processing steps that are required for your methods (for example, checking data distributions and performing any transformations that may be required). Include a brief outline of how you will apply your chosen method(s). \n",
    "- What do you plan to report? Briefly mention any key visualizations you plan to create, and/or the kind of results you will be able to report that address your question (this could be, for example, the outcome of some statistical test(s), prediction error on a model, a model fit parameter, etc.).\n",
    "- Include a list of packages you expect to use for you project. If you plan to use packages we have not used in class, add a very brief description about them (a few words is sufficient). "
   ]
  },
  {
   "cell_type": "markdown",
   "metadata": {},
   "source": [
    "##### Data Cleaning (2-3 sentences)\n",
    "The Fafsa data we obtained is already quite specific, and thus does not need much cleaning. There are a few extra columns of data we can drop, such as school id, state location, and school zip code that are not necessarily in our interest. Besides that, the data set is in a excel file format which we will have to parse it into a csv file to be loaded into pandas.\n",
    "The research grant data is already cleaned and does not need further modifying. The data is in a form style directly on the website, we will need to web scrape it from the website using python.\n",
    "\n",
    "##### Data Analysis (1-2 paragraphs)\n",
    "For the Fafsa data, our goal is to see whether a student’s family income affects his or her decision in choosing a public or private school. Our data shows the amount of fafsa aid granted to each university in one year. We plan on separately summing up the total amount of aid given to private and public schools and see whether the amount of aid are equal. We hope to find that public schools receive more fafsa aid which comes to show that students from public schools applied for more aid probably because they are from a lower income family. \n",
    "This fits with one of our predictions which is that public universities have more students who come from a lower income family. And lower income families tend to pressure their kids to pick a financially stable major. \n",
    "The second data set shows the amount of research aid granted to universities. It shows the name of the university and the department they funnel their grant into. We hope to find that STEM departments receive a much higher proportion of federal research grant each year. If that is true, then while private schools have their own funds to compensate for non-STEM department’s funding, public school often do not get this luxury and as a result non-STEM majors are left dry with little funding.\n",
    "\n",
    "##### What to report (2-3 sentences)\n",
    "By analyzing and visualizing the Fafsa data and Federal aid to various majors, we want to find out whether there is an association between children from low income families who receive more federal aid and their likeliness of pursuing a STEM major when attending university.\n",
    "\n",
    "##### Packages we plan to use:\n",
    "1. Pandas\n",
    "2. matplotlib.pyplot\n"
   ]
  },
  {
   "cell_type": "markdown",
   "metadata": {},
   "source": [
    "### Ethics and Privacy\n",
    "\n",
    "Briefly acknowledge and address any potential issues of ethics and privacy for the proposed project. In particular:\n",
    "- Do you have permission to use this data, for this purpose?\n",
    "- Are there privacy concerns regarding your datasets that you need to deal with, and/or terms of use that you need to comply with?\n",
    "- Are there potential biases in your dataset(s), in terms of who it composes, and how it was collected, that may be problematic in terms of it allowing for equitable analysis? (For example, does your data exclude particular populations, or is it likely to reflect particular human biases in a way that could be a problem?) \n",
    "- Are there any other issues related to your topic area, data, and/or analyses that are potentially problematic in terms of data privacy and equitable impact?\n",
    "- How will you handle any issues you identify?\n",
    "\n",
    "(1-2 paragraphs)"
   ]
  },
  {
   "cell_type": "markdown",
   "metadata": {},
   "source": [
    "The datasets we are using are publicly available online and so we will not require any specific permission for accessing. There is almost no private information included in the datasets we are using as the data is most likely already cleaned by the source. Moreover, the source of both datasets come from the federal government and National Science Foundation, so the authority of the dataset is trustworthy and it is sure that the scope of the data is quite far-ranging. \n",
    "\n",
    "\n",
    "One potential bias however, is that both the Fafsa data and the research grants data have information only on universities within in the United States. As a result, any insights we make from our analysis will only be applicable to universities within the United States. And this is fine because our goal is ultimately to get United States’ Department of Education to acknowledge the issue we are trying to raise, which is, students from lower income families are forced to pick more lucrative STEM majors."
   ]
  },
  {
   "cell_type": "markdown",
   "metadata": {},
   "source": [
    "### Discussion\n",
    "\n",
    "Discuss your project, looking forward to what your results might mean, how they fit it in with what is already known, and what problems you may encounter. \n",
    "\n",
    "In particular:\n",
    "- If your analyses and hypotheses are correct, what will be the contribution of this project to the topic domain? \n",
    "- Alternatively, what will you do if you methods don't work and/or your hypotheses are wrong? \n",
    "- What are the potential pitfalls and potential confounds of your data and/or methods that may cause problems, and/or influence your interpretations?\n",
    "\n",
    "(2-3 paragraphs)"
   ]
  },
  {
   "cell_type": "markdown",
   "metadata": {},
   "source": [
    "If our analyses and hypotheses are correct, then our findings can be a beneficial reference for incoming university students from various financial backgrounds. Our results will also help steer students into deciding their general occupation. It will shed light on the issue that low-income students face and can potentially be raised to the school system and government.  It can promote more funding to get better resources, academic tutoring, and college recruiters to go to the schools of lower-income students who attend less rigorous high schools than wealthier students. Since poorer students have less access to SAT prep, private counselors, and college-level coursework that can make them qualified applicants for selective universities, making these resources more available to lower-income students will result in more of them being admitted to elite schools. \n",
    "\n",
    "On top of that, this insight can be beneficial to government agencies who gives out research grants. They should start planning out a new method in balancing out federal grant aid in the future so that students from a lower income family are not forced into a STEM major. Our research raises the problem that students from lower income families are often pressured into STEM majors. This may also raise more attention to the department of education into determining a solution for the problem.\n"
   ]
  },
  {
   "cell_type": "markdown",
   "metadata": {},
   "source": [
    "If our analyses and hypotheses are correct, then our findings can be a beneficial reference for incoming university students from various financial backgrounds. Our results will also help steer students into deciding their general occupation. It will shed light on the issue that low-income students face and can potentially be raised to the school system and government.  It can promote more funding to get better resources, academic tutoring, and college recruiters to go to the schools of lower-income students who attend less rigorous high schools than wealthier students. Since poorer students have less access to SAT prep, private counselors, and college-level coursework that can make them qualified applicants for selective universities, making these resources more available to lower-income students will result in more of them being admitted to elite schools. \n",
    "\n",
    "On top of that, this insight can be beneficial to government agencies who gives out research grants. They should start planning out a new method in balancing out federal grant aid in the future so that students from a lower income family are not forced into a STEM major. Our research raises the problem that students from lower income families are often pressured into STEM majors. This may also raise more attention to the department of education into determining a solution for the problem.\n"
   ]
  }
 ],
 "metadata": {
  "kernelspec": {
   "display_name": "Python 3",
   "language": "python",
   "name": "python3"
  },
  "language_info": {
   "codemirror_mode": {
    "name": "ipython",
    "version": 3
   },
   "file_extension": ".py",
   "mimetype": "text/x-python",
   "name": "python",
   "nbconvert_exporter": "python",
   "pygments_lexer": "ipython3",
   "version": "3.6.4"
  }
 },
 "nbformat": 4,
 "nbformat_minor": 2
}
